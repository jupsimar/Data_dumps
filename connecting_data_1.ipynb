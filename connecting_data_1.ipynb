{
  "nbformat": 4,
  "nbformat_minor": 0,
  "metadata": {
    "colab": {
      "name": "connecting_data_class1.ipynb",
      "provenance": [],
      "authorship_tag": "ABX9TyO0RQImYbyX5yvYx300DJXh",
      "include_colab_link": true
    },
    "kernelspec": {
      "name": "python3",
      "display_name": "Python 3"
    },
    "language_info": {
      "name": "python"
    }
  },
  "cells": [
    {
      "cell_type": "markdown",
      "metadata": {
        "id": "view-in-github",
        "colab_type": "text"
      },
      "source": [
        "<a href=\"https://colab.research.google.com/github/jupsimar/Final-Game/blob/main/connecting_data_1.ipynb\" target=\"_parent\"><img src=\"https://colab.research.google.com/assets/colab-badge.svg\" alt=\"Open In Colab\"/></a>"
      ]
    },
    {
      "cell_type": "code",
      "metadata": {
        "id": "aAVHY9lqaQgo"
      },
      "source": [
        "#importing pandas library\n",
        "import pandas as pd\n",
        "import numpy as np"
      ],
      "execution_count": 1,
      "outputs": []
    },
    {
      "cell_type": "code",
      "metadata": {
        "id": "EO2vaEGhbS-v"
      },
      "source": [
        "class color:\n",
        "   PURPLE = '\\033[95m'\n",
        "   CYAN = '\\033[96m'\n",
        "   DARKCYAN = '\\033[36m'\n",
        "   BLUE = '\\033[94m'\n",
        "   GREEN = '\\033[92m'\n",
        "   YELLOW = '\\033[93m'\n",
        "   RED = '\\033[91m'\n",
        "   BOLD = '\\033[1m'\n",
        "   UNDERLINE = '\\033[4m'\n",
        "   END = '\\033[0m'"
      ],
      "execution_count": 88,
      "outputs": []
    },
    {
      "cell_type": "markdown",
      "metadata": {
        "id": "iAuZHnW0dEX_"
      },
      "source": [
        "# List"
      ]
    },
    {
      "cell_type": "code",
      "metadata": {
        "id": "HMZsF4yndXY9"
      },
      "source": [
        "our_lists= ['Sheepadoodle','Goldendoodle','Border Collie']"
      ],
      "execution_count": 4,
      "outputs": []
    },
    {
      "cell_type": "code",
      "metadata": {
        "colab": {
          "base_uri": "https://localhost:8080/"
        },
        "id": "bRqxzWiddtG1",
        "outputId": "05cbbe91-53e4-4a1b-98a5-2fe89d250a52"
      },
      "source": [
        "for dog in our_lists:\n",
        "  print(dog)"
      ],
      "execution_count": 6,
      "outputs": [
        {
          "output_type": "stream",
          "text": [
            "Sheepadoodle\n",
            "Goldendoodle\n",
            "Border Collie\n"
          ],
          "name": "stdout"
        }
      ]
    },
    {
      "cell_type": "code",
      "metadata": {
        "colab": {
          "base_uri": "https://localhost:8080/"
        },
        "id": "tHJYO3PBeZjJ",
        "outputId": "fca834c8-bb4b-429f-e0f6-c6bc4bcd2480"
      },
      "source": [
        "#slicing the list and printing the rest\n",
        "for dog in our_lists[1:]:\n",
        "  print(dog)"
      ],
      "execution_count": 7,
      "outputs": [
        {
          "output_type": "stream",
          "text": [
            "Goldendoodle\n",
            "Border Collie\n"
          ],
          "name": "stdout"
        }
      ]
    },
    {
      "cell_type": "code",
      "metadata": {
        "id": "cFRMeteVe9K1"
      },
      "source": [
        "fam =[1.73,1.68,1.71,1.89]"
      ],
      "execution_count": 8,
      "outputs": []
    },
    {
      "cell_type": "code",
      "metadata": {
        "colab": {
          "base_uri": "https://localhost:8080/"
        },
        "id": "E0qJisYBe-lC",
        "outputId": "b80ca034-c56d-455e-8aba-11066d391b09"
      },
      "source": [
        "index = 1\n",
        "\n",
        "for person in fam:\n",
        "  print(index,fam) \n",
        "  index +=1"
      ],
      "execution_count": 15,
      "outputs": [
        {
          "output_type": "stream",
          "text": [
            "1 [1.73, 1.68, 1.71, 1.89]\n",
            "2 [1.73, 1.68, 1.71, 1.89]\n",
            "3 [1.73, 1.68, 1.71, 1.89]\n",
            "4 [1.73, 1.68, 1.71, 1.89]\n"
          ],
          "name": "stdout"
        }
      ]
    },
    {
      "cell_type": "code",
      "metadata": {
        "colab": {
          "base_uri": "https://localhost:8080/"
        },
        "id": "xx8evD9Gfymz",
        "outputId": "651ee39b-2d7f-40ef-c80f-46a85a8afe68"
      },
      "source": [
        "#enumerator\n",
        "print(index)\n",
        "for index, height in enumerate(fam, start = 20):\n",
        "  print(\"index\" + \" \" + str(index) + \":\" + str(height))\n"
      ],
      "execution_count": 20,
      "outputs": [
        {
          "output_type": "stream",
          "text": [
            "3\n",
            "index 20:1.73\n",
            "index 21:1.68\n",
            "index 22:1.71\n",
            "index 23:1.89\n"
          ],
          "name": "stdout"
        }
      ]
    },
    {
      "cell_type": "code",
      "metadata": {
        "colab": {
          "base_uri": "https://localhost:8080/"
        },
        "id": "QJdzYiI-hKcw",
        "outputId": "1e3cf92c-ac7a-46bf-dbe1-db9a3f5f26f3"
      },
      "source": [
        "cities = ['London', 'Paris', 'Berlin', 'Warsaw']\n",
        "index =1\n",
        "for index, height in enumerate(cities):\n",
        "  index +=1\n",
        "  print(index, height)\n",
        "  "
      ],
      "execution_count": 26,
      "outputs": [
        {
          "output_type": "stream",
          "text": [
            "1 London\n",
            "2 Paris\n",
            "3 Berlin\n",
            "4 Warsaw\n"
          ],
          "name": "stdout"
        }
      ]
    },
    {
      "cell_type": "code",
      "metadata": {
        "colab": {
          "base_uri": "https://localhost:8080/"
        },
        "id": "xNgcWB_kiDvB",
        "outputId": "764bd454-5e39-470b-9076-954e45f1215a"
      },
      "source": [
        "shed_measurements =[[2,1],[3,2],[4,8]]\n",
        "\n",
        "for width,length in shed_measurements:\n",
        "  print(str(width) + \" by \" + str(length))\n",
        "  \n",
        "  "
      ],
      "execution_count": 36,
      "outputs": [
        {
          "output_type": "stream",
          "text": [
            "2 by 1\n",
            "3 by 2\n",
            "4 by 8\n"
          ],
          "name": "stdout"
        }
      ]
    },
    {
      "cell_type": "code",
      "metadata": {
        "colab": {
          "base_uri": "https://localhost:8080/"
        },
        "id": "Arm9FvHqjBCQ",
        "outputId": "4a7338a2-c41a-4d58-cd5f-0d677dcec08d"
      },
      "source": [
        "veh_data = [['vehicle', 'year', 'price'],\n",
        "           ['Tesla XXXX', '2019', '49900'],\n",
        "           ['Hyundai XXXX', '2020', '30315'],\n",
        "           ['Chevy XXXX', '2018', '36620']]\n",
        "\n",
        "for vehicle in veh_data[1:]:\n",
        "\n",
        "  vehicle[1]=int(vehicle[1])\n",
        "  print(vehicle[1])\n",
        "  "
      ],
      "execution_count": 45,
      "outputs": [
        {
          "output_type": "stream",
          "text": [
            "2019\n",
            "2020\n",
            "2018\n"
          ],
          "name": "stdout"
        }
      ]
    },
    {
      "cell_type": "code",
      "metadata": {
        "colab": {
          "base_uri": "https://localhost:8080/"
        },
        "id": "W9-yZXVIltTR",
        "outputId": "ff0df1f8-d3f6-4dfa-ba75-e19b42b9778d"
      },
      "source": [
        "#calculating the average price\n",
        "\n",
        "total_price = 0\n",
        "\n",
        "for row in veh_data[1:]:\n",
        "  price = int(row[2])\n",
        "  row[2] = price\n",
        "  total_price += price\n",
        "\n",
        "number_of_cars = len (veh_data[1:])\n",
        "print(total_price/number_of_cars) "
      ],
      "execution_count": 49,
      "outputs": [
        {
          "output_type": "stream",
          "text": [
            "38945.0\n"
          ],
          "name": "stdout"
        }
      ]
    },
    {
      "cell_type": "code",
      "metadata": {
        "colab": {
          "base_uri": "https://localhost:8080/",
          "height": 176
        },
        "id": "zki8S7UunKtA",
        "outputId": "9f4cd948-03aa-4479-e8c1-06c8593e99f3"
      },
      "source": [
        "# initialize list of lists \n",
        "data = [['Sarah', 10,'American'], ['Thomas', 15,'Dutch'], ['Nicky', 14, 'German']] \n",
        "\n",
        "first_row = ['Name', 'Age', 'Nationality']\n",
        "\n",
        "print(data)\n",
        "print(first_row)\n",
        "\n",
        "#creating a dataframe\n",
        "\n",
        "df = pd.DataFrame(data , columns=first_row)\n",
        "df\n",
        "\n"
      ],
      "execution_count": 51,
      "outputs": [
        {
          "output_type": "stream",
          "text": [
            "[['Sarah', 10, 'American'], ['Thomas', 15, 'Dutch'], ['Nicky', 14, 'German']]\n",
            "['Name', 'Age', 'Nationality']\n"
          ],
          "name": "stdout"
        },
        {
          "output_type": "execute_result",
          "data": {
            "text/html": [
              "<div>\n",
              "<style scoped>\n",
              "    .dataframe tbody tr th:only-of-type {\n",
              "        vertical-align: middle;\n",
              "    }\n",
              "\n",
              "    .dataframe tbody tr th {\n",
              "        vertical-align: top;\n",
              "    }\n",
              "\n",
              "    .dataframe thead th {\n",
              "        text-align: right;\n",
              "    }\n",
              "</style>\n",
              "<table border=\"1\" class=\"dataframe\">\n",
              "  <thead>\n",
              "    <tr style=\"text-align: right;\">\n",
              "      <th></th>\n",
              "      <th>Name</th>\n",
              "      <th>Age</th>\n",
              "      <th>Nationality</th>\n",
              "    </tr>\n",
              "  </thead>\n",
              "  <tbody>\n",
              "    <tr>\n",
              "      <th>0</th>\n",
              "      <td>Sarah</td>\n",
              "      <td>10</td>\n",
              "      <td>American</td>\n",
              "    </tr>\n",
              "    <tr>\n",
              "      <th>1</th>\n",
              "      <td>Thomas</td>\n",
              "      <td>15</td>\n",
              "      <td>Dutch</td>\n",
              "    </tr>\n",
              "    <tr>\n",
              "      <th>2</th>\n",
              "      <td>Nicky</td>\n",
              "      <td>14</td>\n",
              "      <td>German</td>\n",
              "    </tr>\n",
              "  </tbody>\n",
              "</table>\n",
              "</div>"
            ],
            "text/plain": [
              "     Name  Age Nationality\n",
              "0   Sarah   10    American\n",
              "1  Thomas   15       Dutch\n",
              "2   Nicky   14      German"
            ]
          },
          "metadata": {
            "tags": []
          },
          "execution_count": 51
        }
      ]
    },
    {
      "cell_type": "markdown",
      "metadata": {
        "id": "D7YhCHzXjJ4Q"
      },
      "source": [
        ""
      ]
    },
    {
      "cell_type": "code",
      "metadata": {
        "colab": {
          "base_uri": "https://localhost:8080/"
        },
        "id": "sasfjkU7ndiP",
        "outputId": "edfe5f7f-f3ac-48c1-a23e-eb73b7da168c"
      },
      "source": [
        "df.dtypes"
      ],
      "execution_count": 52,
      "outputs": [
        {
          "output_type": "execute_result",
          "data": {
            "text/plain": [
              "Name           object\n",
              "Age             int64\n",
              "Nationality    object\n",
              "dtype: object"
            ]
          },
          "metadata": {
            "tags": []
          },
          "execution_count": 52
        }
      ]
    },
    {
      "cell_type": "code",
      "metadata": {
        "colab": {
          "base_uri": "https://localhost:8080/"
        },
        "id": "iwzyeXWwoCVZ",
        "outputId": "2974a6b0-ab4d-4909-cacd-027c45669fa4"
      },
      "source": [
        "for ind in df.index:\n",
        "  print(df['Name'][ind],df['Age'][ind])"
      ],
      "execution_count": 55,
      "outputs": [
        {
          "output_type": "stream",
          "text": [
            "Sarah 10\n",
            "Thomas 15\n",
            "Nicky 14\n"
          ],
          "name": "stdout"
        }
      ]
    },
    {
      "cell_type": "code",
      "metadata": {
        "colab": {
          "base_uri": "https://localhost:8080/"
        },
        "id": "lUG89c_FohDU",
        "outputId": "f808234f-63a1-4f6d-ad6f-ec3298d323c9"
      },
      "source": [
        "#loc[]  method to iterate through dataframe\n",
        "\n",
        "for i in range (len(df)) :\n",
        "  print(df.loc[i,'Name'],df.loc[i,\"Age\"])\n",
        "  "
      ],
      "execution_count": 57,
      "outputs": [
        {
          "output_type": "stream",
          "text": [
            "Sarah 10\n",
            "Thomas 15\n",
            "Nicky 14\n"
          ],
          "name": "stdout"
        }
      ]
    },
    {
      "cell_type": "code",
      "metadata": {
        "colab": {
          "base_uri": "https://localhost:8080/",
          "height": 421
        },
        "id": "zSMbSDzupGF5",
        "outputId": "f02ab734-d2a9-4914-d53f-90c4e60aaca6"
      },
      "source": [
        "column_names = ['page','article name','format','revenue','total engagement']\n",
        "rows = [['Aunty Acid', 'article 1','story',123, 1045],['Diply', 'article 2','story',89, 700],['Diply Hello', 'article 3','listicle',151, 1047],\n",
        "        ['Aunty Acid', 'article 4','listicle',87, 945],['Aunty Acid', 'article 5','listicle',313, 1304],['Diply', 'article 6','listicle',99, 705],\n",
        "        ['Diply Hello', 'article 7','story',150, 870],['Diply Hello', 'article 8','listicle',423, 2004],['Diply', 'article 9','listicle',178, 3521],\n",
        "        ['Diply', 'article 10','listicle',217, 2000],['Aunty Acid', 'article 11','story',123, 8007],['Diply Hello', 'article 12','story',121, 1809]\n",
        "        ]\n",
        "\n",
        "df_diply = pd.DataFrame(rows,columns= column_names)\n",
        "df_diply"
      ],
      "execution_count": 59,
      "outputs": [
        {
          "output_type": "execute_result",
          "data": {
            "text/html": [
              "<div>\n",
              "<style scoped>\n",
              "    .dataframe tbody tr th:only-of-type {\n",
              "        vertical-align: middle;\n",
              "    }\n",
              "\n",
              "    .dataframe tbody tr th {\n",
              "        vertical-align: top;\n",
              "    }\n",
              "\n",
              "    .dataframe thead th {\n",
              "        text-align: right;\n",
              "    }\n",
              "</style>\n",
              "<table border=\"1\" class=\"dataframe\">\n",
              "  <thead>\n",
              "    <tr style=\"text-align: right;\">\n",
              "      <th></th>\n",
              "      <th>page</th>\n",
              "      <th>article name</th>\n",
              "      <th>format</th>\n",
              "      <th>revenue</th>\n",
              "      <th>total engagement</th>\n",
              "    </tr>\n",
              "  </thead>\n",
              "  <tbody>\n",
              "    <tr>\n",
              "      <th>0</th>\n",
              "      <td>Aunty Acid</td>\n",
              "      <td>article 1</td>\n",
              "      <td>story</td>\n",
              "      <td>123</td>\n",
              "      <td>1045</td>\n",
              "    </tr>\n",
              "    <tr>\n",
              "      <th>1</th>\n",
              "      <td>Diply</td>\n",
              "      <td>article 2</td>\n",
              "      <td>story</td>\n",
              "      <td>89</td>\n",
              "      <td>700</td>\n",
              "    </tr>\n",
              "    <tr>\n",
              "      <th>2</th>\n",
              "      <td>Diply Hello</td>\n",
              "      <td>article 3</td>\n",
              "      <td>listicle</td>\n",
              "      <td>151</td>\n",
              "      <td>1047</td>\n",
              "    </tr>\n",
              "    <tr>\n",
              "      <th>3</th>\n",
              "      <td>Aunty Acid</td>\n",
              "      <td>article 4</td>\n",
              "      <td>listicle</td>\n",
              "      <td>87</td>\n",
              "      <td>945</td>\n",
              "    </tr>\n",
              "    <tr>\n",
              "      <th>4</th>\n",
              "      <td>Aunty Acid</td>\n",
              "      <td>article 5</td>\n",
              "      <td>listicle</td>\n",
              "      <td>313</td>\n",
              "      <td>1304</td>\n",
              "    </tr>\n",
              "    <tr>\n",
              "      <th>5</th>\n",
              "      <td>Diply</td>\n",
              "      <td>article 6</td>\n",
              "      <td>listicle</td>\n",
              "      <td>99</td>\n",
              "      <td>705</td>\n",
              "    </tr>\n",
              "    <tr>\n",
              "      <th>6</th>\n",
              "      <td>Diply Hello</td>\n",
              "      <td>article 7</td>\n",
              "      <td>story</td>\n",
              "      <td>150</td>\n",
              "      <td>870</td>\n",
              "    </tr>\n",
              "    <tr>\n",
              "      <th>7</th>\n",
              "      <td>Diply Hello</td>\n",
              "      <td>article 8</td>\n",
              "      <td>listicle</td>\n",
              "      <td>423</td>\n",
              "      <td>2004</td>\n",
              "    </tr>\n",
              "    <tr>\n",
              "      <th>8</th>\n",
              "      <td>Diply</td>\n",
              "      <td>article 9</td>\n",
              "      <td>listicle</td>\n",
              "      <td>178</td>\n",
              "      <td>3521</td>\n",
              "    </tr>\n",
              "    <tr>\n",
              "      <th>9</th>\n",
              "      <td>Diply</td>\n",
              "      <td>article 10</td>\n",
              "      <td>listicle</td>\n",
              "      <td>217</td>\n",
              "      <td>2000</td>\n",
              "    </tr>\n",
              "    <tr>\n",
              "      <th>10</th>\n",
              "      <td>Aunty Acid</td>\n",
              "      <td>article 11</td>\n",
              "      <td>story</td>\n",
              "      <td>123</td>\n",
              "      <td>8007</td>\n",
              "    </tr>\n",
              "    <tr>\n",
              "      <th>11</th>\n",
              "      <td>Diply Hello</td>\n",
              "      <td>article 12</td>\n",
              "      <td>story</td>\n",
              "      <td>121</td>\n",
              "      <td>1809</td>\n",
              "    </tr>\n",
              "  </tbody>\n",
              "</table>\n",
              "</div>"
            ],
            "text/plain": [
              "           page article name    format  revenue  total engagement\n",
              "0    Aunty Acid    article 1     story      123              1045\n",
              "1         Diply    article 2     story       89               700\n",
              "2   Diply Hello    article 3  listicle      151              1047\n",
              "3    Aunty Acid    article 4  listicle       87               945\n",
              "4    Aunty Acid    article 5  listicle      313              1304\n",
              "5         Diply    article 6  listicle       99               705\n",
              "6   Diply Hello    article 7     story      150               870\n",
              "7   Diply Hello    article 8  listicle      423              2004\n",
              "8         Diply    article 9  listicle      178              3521\n",
              "9         Diply   article 10  listicle      217              2000\n",
              "10   Aunty Acid   article 11     story      123              8007\n",
              "11  Diply Hello   article 12     story      121              1809"
            ]
          },
          "metadata": {
            "tags": []
          },
          "execution_count": 59
        }
      ]
    },
    {
      "cell_type": "code",
      "metadata": {
        "colab": {
          "base_uri": "https://localhost:8080/"
        },
        "id": "52t7FYclpdEk",
        "outputId": "a9c961a0-a768-4fa1-94ca-75f5fc45f00c"
      },
      "source": [
        "df_diply.shape\n"
      ],
      "execution_count": 60,
      "outputs": [
        {
          "output_type": "execute_result",
          "data": {
            "text/plain": [
              "(12, 5)"
            ]
          },
          "metadata": {
            "tags": []
          },
          "execution_count": 60
        }
      ]
    },
    {
      "cell_type": "code",
      "metadata": {
        "colab": {
          "base_uri": "https://localhost:8080/",
          "height": 111
        },
        "id": "M3xOrQ30pspP",
        "outputId": "3391f432-4939-45a3-931e-a9dfcff88535"
      },
      "source": [
        "df_diply.head(2)"
      ],
      "execution_count": 62,
      "outputs": [
        {
          "output_type": "execute_result",
          "data": {
            "text/html": [
              "<div>\n",
              "<style scoped>\n",
              "    .dataframe tbody tr th:only-of-type {\n",
              "        vertical-align: middle;\n",
              "    }\n",
              "\n",
              "    .dataframe tbody tr th {\n",
              "        vertical-align: top;\n",
              "    }\n",
              "\n",
              "    .dataframe thead th {\n",
              "        text-align: right;\n",
              "    }\n",
              "</style>\n",
              "<table border=\"1\" class=\"dataframe\">\n",
              "  <thead>\n",
              "    <tr style=\"text-align: right;\">\n",
              "      <th></th>\n",
              "      <th>page</th>\n",
              "      <th>article name</th>\n",
              "      <th>format</th>\n",
              "      <th>revenue</th>\n",
              "      <th>total engagement</th>\n",
              "    </tr>\n",
              "  </thead>\n",
              "  <tbody>\n",
              "    <tr>\n",
              "      <th>0</th>\n",
              "      <td>Aunty Acid</td>\n",
              "      <td>article 1</td>\n",
              "      <td>story</td>\n",
              "      <td>123</td>\n",
              "      <td>1045</td>\n",
              "    </tr>\n",
              "    <tr>\n",
              "      <th>1</th>\n",
              "      <td>Diply</td>\n",
              "      <td>article 2</td>\n",
              "      <td>story</td>\n",
              "      <td>89</td>\n",
              "      <td>700</td>\n",
              "    </tr>\n",
              "  </tbody>\n",
              "</table>\n",
              "</div>"
            ],
            "text/plain": [
              "         page article name format  revenue  total engagement\n",
              "0  Aunty Acid    article 1  story      123              1045\n",
              "1       Diply    article 2  story       89               700"
            ]
          },
          "metadata": {
            "tags": []
          },
          "execution_count": 62
        }
      ]
    },
    {
      "cell_type": "code",
      "metadata": {
        "colab": {
          "base_uri": "https://localhost:8080/"
        },
        "id": "vKjzTUyypz8d",
        "outputId": "3758f8df-de04-4364-f861-31e724123d49"
      },
      "source": [
        "#looping through different columns (across the full dataframes)\n",
        "print('Average\\n')\n",
        "for col in np.array(['revenue','total engagement']):\n",
        "  print(df_diply[col].mean())"
      ],
      "execution_count": 70,
      "outputs": [
        {
          "output_type": "stream",
          "text": [
            "Average\n",
            "\n",
            "172.83333333333334\n",
            "1996.4166666666667\n"
          ],
          "name": "stdout"
        }
      ]
    },
    {
      "cell_type": "code",
      "metadata": {
        "colab": {
          "base_uri": "https://localhost:8080/",
          "height": 485
        },
        "id": "0M8o0_FPrg4y",
        "outputId": "6f0ec3ba-b855-40b7-f997-b5180b227d0c"
      },
      "source": [
        "for p in df_diply.page.unique():\n",
        "  page = df_diply[df_diply.page==p]\n",
        "  display(page)"
      ],
      "execution_count": 86,
      "outputs": [
        {
          "output_type": "display_data",
          "data": {
            "text/html": [
              "<div>\n",
              "<style scoped>\n",
              "    .dataframe tbody tr th:only-of-type {\n",
              "        vertical-align: middle;\n",
              "    }\n",
              "\n",
              "    .dataframe tbody tr th {\n",
              "        vertical-align: top;\n",
              "    }\n",
              "\n",
              "    .dataframe thead th {\n",
              "        text-align: right;\n",
              "    }\n",
              "</style>\n",
              "<table border=\"1\" class=\"dataframe\">\n",
              "  <thead>\n",
              "    <tr style=\"text-align: right;\">\n",
              "      <th></th>\n",
              "      <th>page</th>\n",
              "      <th>article name</th>\n",
              "      <th>format</th>\n",
              "      <th>revenue</th>\n",
              "      <th>total engagement</th>\n",
              "    </tr>\n",
              "  </thead>\n",
              "  <tbody>\n",
              "    <tr>\n",
              "      <th>0</th>\n",
              "      <td>Aunty Acid</td>\n",
              "      <td>article 1</td>\n",
              "      <td>story</td>\n",
              "      <td>123</td>\n",
              "      <td>1045</td>\n",
              "    </tr>\n",
              "    <tr>\n",
              "      <th>3</th>\n",
              "      <td>Aunty Acid</td>\n",
              "      <td>article 4</td>\n",
              "      <td>listicle</td>\n",
              "      <td>87</td>\n",
              "      <td>945</td>\n",
              "    </tr>\n",
              "    <tr>\n",
              "      <th>4</th>\n",
              "      <td>Aunty Acid</td>\n",
              "      <td>article 5</td>\n",
              "      <td>listicle</td>\n",
              "      <td>313</td>\n",
              "      <td>1304</td>\n",
              "    </tr>\n",
              "    <tr>\n",
              "      <th>10</th>\n",
              "      <td>Aunty Acid</td>\n",
              "      <td>article 11</td>\n",
              "      <td>story</td>\n",
              "      <td>123</td>\n",
              "      <td>8007</td>\n",
              "    </tr>\n",
              "  </tbody>\n",
              "</table>\n",
              "</div>"
            ],
            "text/plain": [
              "          page article name    format  revenue  total engagement\n",
              "0   Aunty Acid    article 1     story      123              1045\n",
              "3   Aunty Acid    article 4  listicle       87               945\n",
              "4   Aunty Acid    article 5  listicle      313              1304\n",
              "10  Aunty Acid   article 11     story      123              8007"
            ]
          },
          "metadata": {
            "tags": []
          }
        },
        {
          "output_type": "display_data",
          "data": {
            "text/html": [
              "<div>\n",
              "<style scoped>\n",
              "    .dataframe tbody tr th:only-of-type {\n",
              "        vertical-align: middle;\n",
              "    }\n",
              "\n",
              "    .dataframe tbody tr th {\n",
              "        vertical-align: top;\n",
              "    }\n",
              "\n",
              "    .dataframe thead th {\n",
              "        text-align: right;\n",
              "    }\n",
              "</style>\n",
              "<table border=\"1\" class=\"dataframe\">\n",
              "  <thead>\n",
              "    <tr style=\"text-align: right;\">\n",
              "      <th></th>\n",
              "      <th>page</th>\n",
              "      <th>article name</th>\n",
              "      <th>format</th>\n",
              "      <th>revenue</th>\n",
              "      <th>total engagement</th>\n",
              "    </tr>\n",
              "  </thead>\n",
              "  <tbody>\n",
              "    <tr>\n",
              "      <th>1</th>\n",
              "      <td>Diply</td>\n",
              "      <td>article 2</td>\n",
              "      <td>story</td>\n",
              "      <td>89</td>\n",
              "      <td>700</td>\n",
              "    </tr>\n",
              "    <tr>\n",
              "      <th>5</th>\n",
              "      <td>Diply</td>\n",
              "      <td>article 6</td>\n",
              "      <td>listicle</td>\n",
              "      <td>99</td>\n",
              "      <td>705</td>\n",
              "    </tr>\n",
              "    <tr>\n",
              "      <th>8</th>\n",
              "      <td>Diply</td>\n",
              "      <td>article 9</td>\n",
              "      <td>listicle</td>\n",
              "      <td>178</td>\n",
              "      <td>3521</td>\n",
              "    </tr>\n",
              "    <tr>\n",
              "      <th>9</th>\n",
              "      <td>Diply</td>\n",
              "      <td>article 10</td>\n",
              "      <td>listicle</td>\n",
              "      <td>217</td>\n",
              "      <td>2000</td>\n",
              "    </tr>\n",
              "  </tbody>\n",
              "</table>\n",
              "</div>"
            ],
            "text/plain": [
              "    page article name    format  revenue  total engagement\n",
              "1  Diply    article 2     story       89               700\n",
              "5  Diply    article 6  listicle       99               705\n",
              "8  Diply    article 9  listicle      178              3521\n",
              "9  Diply   article 10  listicle      217              2000"
            ]
          },
          "metadata": {
            "tags": []
          }
        },
        {
          "output_type": "display_data",
          "data": {
            "text/html": [
              "<div>\n",
              "<style scoped>\n",
              "    .dataframe tbody tr th:only-of-type {\n",
              "        vertical-align: middle;\n",
              "    }\n",
              "\n",
              "    .dataframe tbody tr th {\n",
              "        vertical-align: top;\n",
              "    }\n",
              "\n",
              "    .dataframe thead th {\n",
              "        text-align: right;\n",
              "    }\n",
              "</style>\n",
              "<table border=\"1\" class=\"dataframe\">\n",
              "  <thead>\n",
              "    <tr style=\"text-align: right;\">\n",
              "      <th></th>\n",
              "      <th>page</th>\n",
              "      <th>article name</th>\n",
              "      <th>format</th>\n",
              "      <th>revenue</th>\n",
              "      <th>total engagement</th>\n",
              "    </tr>\n",
              "  </thead>\n",
              "  <tbody>\n",
              "    <tr>\n",
              "      <th>2</th>\n",
              "      <td>Diply Hello</td>\n",
              "      <td>article 3</td>\n",
              "      <td>listicle</td>\n",
              "      <td>151</td>\n",
              "      <td>1047</td>\n",
              "    </tr>\n",
              "    <tr>\n",
              "      <th>6</th>\n",
              "      <td>Diply Hello</td>\n",
              "      <td>article 7</td>\n",
              "      <td>story</td>\n",
              "      <td>150</td>\n",
              "      <td>870</td>\n",
              "    </tr>\n",
              "    <tr>\n",
              "      <th>7</th>\n",
              "      <td>Diply Hello</td>\n",
              "      <td>article 8</td>\n",
              "      <td>listicle</td>\n",
              "      <td>423</td>\n",
              "      <td>2004</td>\n",
              "    </tr>\n",
              "    <tr>\n",
              "      <th>11</th>\n",
              "      <td>Diply Hello</td>\n",
              "      <td>article 12</td>\n",
              "      <td>story</td>\n",
              "      <td>121</td>\n",
              "      <td>1809</td>\n",
              "    </tr>\n",
              "  </tbody>\n",
              "</table>\n",
              "</div>"
            ],
            "text/plain": [
              "           page article name    format  revenue  total engagement\n",
              "2   Diply Hello    article 3  listicle      151              1047\n",
              "6   Diply Hello    article 7     story      150               870\n",
              "7   Diply Hello    article 8  listicle      423              2004\n",
              "11  Diply Hello   article 12     story      121              1809"
            ]
          },
          "metadata": {
            "tags": []
          }
        }
      ]
    },
    {
      "cell_type": "code",
      "metadata": {
        "colab": {
          "base_uri": "https://localhost:8080/"
        },
        "id": "ZLNQdYwSsTE3",
        "outputId": "d7869de3-c1a5-4a7d-9075-0e45669966a6"
      },
      "source": [
        "for p in df_diply.page.unique():\n",
        "  df_page = df_diply[df_diply.page==p]\n",
        "  for col in np.array(['revenue','total engagement']):\n",
        "    print(round(df_diply[col].mean(),2))\n",
        "\n",
        "#Another code\n",
        "for p in df_diply.page.unique():\n",
        "  df_page = df_diply[df_diply.page==p]\n",
        "  #display(df_page)\n",
        "  print(color.BOLD + color.PURPLE+p+color.END)\n",
        "  for col in np.array(['revenue','total engagement']):\n",
        "    print(color.BOLD+col+color.END)\n",
        "    print(round(df_diply[col].mean(),2))"
      ],
      "execution_count": 92,
      "outputs": [
        {
          "output_type": "stream",
          "text": [
            "172.83\n",
            "1996.42\n",
            "172.83\n",
            "1996.42\n",
            "172.83\n",
            "1996.42\n",
            "\u001b[1m\u001b[95mAunty Acid\u001b[0m\n",
            "\u001b[1mrevenue\u001b[0m\n",
            "172.83\n",
            "\u001b[1mtotal engagement\u001b[0m\n",
            "1996.42\n",
            "\u001b[1m\u001b[95mDiply\u001b[0m\n",
            "\u001b[1mrevenue\u001b[0m\n",
            "172.83\n",
            "\u001b[1mtotal engagement\u001b[0m\n",
            "1996.42\n",
            "\u001b[1m\u001b[95mDiply Hello\u001b[0m\n",
            "\u001b[1mrevenue\u001b[0m\n",
            "172.83\n",
            "\u001b[1mtotal engagement\u001b[0m\n",
            "1996.42\n"
          ],
          "name": "stdout"
        }
      ]
    }
  ]
}